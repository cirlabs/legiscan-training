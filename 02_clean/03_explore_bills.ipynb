{
 "cells": [
  {
   "cell_type": "code",
   "execution_count": null,
   "id": "9d305b1d-4900-4ad4-9c60-43d0562fc7f6",
   "metadata": {},
   "outputs": [],
   "source": [
    "import json\n",
    "import os\n",
    "from pathlib import Path\n",
    "\n",
    "import numpy as np\n",
    "import pandas as pd\n",
    "import requests\n",
    "from IPython.display import Image\n",
    "from legcop import LegiScan"
   ]
  },
  {
   "cell_type": "code",
   "execution_count": null,
   "id": "a48abf7e-8c90-48e0-bec6-0c13f872186d",
   "metadata": {},
   "outputs": [],
   "source": [
    "def load_bill_json(bill_id, parsed=False):\n",
    "    if parsed:\n",
    "        parent = '../04_outputs/parsed/bills'\n",
    "    else:\n",
    "        parent = '../04_outputs/json'\n",
    "    with open(f'{parent}/{bill_id}.json') as fp:\n",
    "        bill = json.load(fp)\n",
    "    return bill"
   ]
  },
  {
   "cell_type": "code",
   "execution_count": null,
   "id": "7923276d-641a-4f8f-a4eb-f5c35bfa79fc",
   "metadata": {},
   "outputs": [],
   "source": [
    "def load_nested_data(bill_id, field):\n",
    "    df = pd.read_json(f'../04_outputs/parsed/{field}/{bill_id}.json')\n",
    "    return df"
   ]
  },
  {
   "cell_type": "code",
   "execution_count": null,
   "id": "c20a77d9-36d2-436c-9fd5-f6e5f1267ea0",
   "metadata": {},
   "outputs": [],
   "source": [
    "with open('../04_outputs/json/US_117th_congress_bills/HR25.json') as fp:\n",
    "    bill = json.load(fp)"
   ]
  },
  {
   "cell_type": "code",
   "execution_count": null,
   "id": "ec9f6a2f-262b-4f27-a105-f8f1897faabf",
   "metadata": {},
   "outputs": [],
   "source": [
    "sponsors = bill['bill']['sponsors']"
   ]
  }
 ],
 "metadata": {
  "kernelspec": {
   "display_name": "Python 3 (ipykernel)",
   "language": "python",
   "name": "python3"
  },
  "language_info": {
   "codemirror_mode": {
    "name": "ipython",
    "version": 3
   },
   "file_extension": ".py",
   "mimetype": "text/x-python",
   "name": "python",
   "nbconvert_exporter": "python",
   "pygments_lexer": "ipython3",
   "version": "3.10.4"
  }
 },
 "nbformat": 4,
 "nbformat_minor": 5
}
