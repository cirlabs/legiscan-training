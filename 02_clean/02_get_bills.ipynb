{
 "cells": [
  {
   "cell_type": "markdown",
   "id": "2f0ed9c4-48d6-4f04-a440-02ab93c8bc57",
   "metadata": {},
   "source": [
    "# Retrieving bill data from the LegiScan API"
   ]
  },
  {
   "cell_type": "code",
   "execution_count": null,
   "id": "adf6f4ef-0b9d-47d8-a9f1-de90629cb2c5",
   "metadata": {
    "slideshow": {
     "slide_type": "slide"
    },
    "tags": []
   },
   "outputs": [],
   "source": [
    "import json\n",
    "import os\n",
    "from pathlib import Path\n",
    "\n",
    "import numpy as np\n",
    "import pandas as pd\n",
    "import requests\n",
    "from IPython.display import Image\n",
    "from legcop import LegiScan"
   ]
  },
  {
   "cell_type": "markdown",
   "id": "bc0c231a-c98e-49e5-af5d-6b80eccb286c",
   "metadata": {},
   "source": [
    "## Retrieve a bill"
   ]
  },
  {
   "cell_type": "markdown",
   "id": "3f01a215-14e9-4b6f-88fa-dbdc911380c4",
   "metadata": {},
   "source": [
    "You could do this the old-fashioned way:"
   ]
  },
  {
   "cell_type": "code",
   "execution_count": null,
   "id": "e2e5965c-1876-43c5-b1cf-454e844d0ad7",
   "metadata": {
    "slideshow": {
     "slide_type": "slide"
    },
    "tags": []
   },
   "outputs": [],
   "source": [
    "r = requests.get(\n",
    "    'https://api.legiscan.com/',\n",
    "    params={\n",
    "        'key': os.getenv('LEGISCAN_API_KEY'),\n",
    "        'op': 'getBill',\n",
    "        'state': 'US',\n",
    "        'bill': 'HJR100',\n",
    "    },\n",
    ")"
   ]
  },
  {
   "cell_type": "code",
   "execution_count": null,
   "id": "42dd3d08-04d7-4650-9d0f-f4df0ae268a1",
   "metadata": {
    "slideshow": {
     "slide_type": "slide"
    },
    "tags": []
   },
   "outputs": [],
   "source": [
    "Image(filename='../01_inputs/documentation/operations.png')"
   ]
  },
  {
   "cell_type": "markdown",
   "id": "e2604ace-64ad-42d1-8c2b-fdd1debd28e5",
   "metadata": {},
   "source": [
    "Or you could use a preexisting Python wrapper:"
   ]
  },
  {
   "cell_type": "code",
   "execution_count": null,
   "id": "232e2c9d-9179-464a-b670-4cd299972442",
   "metadata": {},
   "outputs": [],
   "source": [
    "legis = LegiScan(apikey=os.getenv('LEGISCAN_API_KEY'))"
   ]
  },
  {
   "cell_type": "code",
   "execution_count": null,
   "id": "5aa86d0f-c8b4-4485-90d3-536e52e2f265",
   "metadata": {},
   "outputs": [],
   "source": [
    "hr100 = legis.get_bill(state='US', bill_number='HJR100')"
   ]
  },
  {
   "cell_type": "code",
   "execution_count": null,
   "id": "7d4d3963-2353-4b57-87cf-5c4008a01b9f",
   "metadata": {},
   "outputs": [],
   "source": [
    "hr100"
   ]
  },
  {
   "cell_type": "markdown",
   "id": "e9942795-5c63-4d3e-819d-0d442a186d26",
   "metadata": {},
   "source": [
    "## Save bill object"
   ]
  },
  {
   "cell_type": "code",
   "execution_count": null,
   "id": "6fbd7416-0336-49b3-9dd8-9d0bd1ce2a92",
   "metadata": {},
   "outputs": [],
   "source": [
    "def save_requested_bill(data: dict, to_csv: bool):\n",
    "    \"\"\"Save result returned by API to a JSON file.\n",
    "\n",
    "    Parameters\n",
    "    ----------\n",
    "    data : dict\n",
    "        Raw data returned by the LegiScan API\n",
    "\n",
    "    use_bill_id : bool, default=True\n",
    "\n",
    "    Returns\n",
    "    -------\n",
    "    None\n",
    "\n",
    "    \"\"\"\n",
    "    try:\n",
    "        bill_id = data['bill_id']\n",
    "    except KeyError:\n",
    "        print(f'This data does not have a `bill_id`. Keys found: {\", \".join(keys)}')\n",
    "    if to_csv:\n",
    "        Path('../04_outputs/csv').mkdir(exist_ok=True)\n",
    "        filename = f'../04_outputs/csv/{bill_id}.csv'\n",
    "        df = pd.json_normalize(data)\n",
    "        df.to_csv(filename, index=False)\n",
    "        print(f'Bill saved to {filename}')\n",
    "    else:\n",
    "        filename = f'../04_outputs/json/{bill_id}.json'\n",
    "        with open(filename, 'w') as fp:\n",
    "            json.dump(data, fp)\n",
    "            print(f'Bill saved to {filename}')"
   ]
  },
  {
   "cell_type": "markdown",
   "id": "04f3c015-a151-41f5-8d2e-b31019948e73",
   "metadata": {},
   "source": [
    "## Parse bill object"
   ]
  },
  {
   "cell_type": "code",
   "execution_count": null,
   "id": "60d4fbeb-6069-4b5b-92d0-84367f12ec71",
   "metadata": {},
   "outputs": [],
   "source": [
    "def load_bill_json(bill_id: int, parsed: bool):\n",
    "    if parsed:\n",
    "        parent = '../04_outputs/parsed/bills'\n",
    "    else:\n",
    "        parent = '../04_outputs/json'\n",
    "    with open(f'{parent}/{bill_id}.json') as fp:\n",
    "        bill = json.load(fp)\n",
    "    return bill"
   ]
  },
  {
   "cell_type": "markdown",
   "id": "fcf2e0b2-4932-473f-ae00-3ed9c2fe28cc",
   "metadata": {},
   "source": [
    "### Nested"
   ]
  },
  {
   "cell_type": "code",
   "execution_count": null,
   "id": "fa530a24-7542-4a80-a504-2dca414f109c",
   "metadata": {},
   "outputs": [],
   "source": [
    "def determine_nested_data(bill_obj: dict):\n",
    "    \"\"\"Helper function for save_nested_data()\"\"\"\n",
    "    bill_id = bill_obj['bill_id']\n",
    "    nested_fields = []\n",
    "    for k, v in bill_obj.items():\n",
    "        if isinstance(v, list) or isinstance(v, dict):\n",
    "            if len(v) > 0:\n",
    "                nested_fields.append(k)\n",
    "            else:\n",
    "                bill_obj[k] = ''\n",
    "    return nested_fields"
   ]
  },
  {
   "cell_type": "code",
   "execution_count": null,
   "id": "a1a17ba5-8cdb-4d85-abd9-abf6621e0898",
   "metadata": {},
   "outputs": [],
   "source": [
    "def save_nested_data(bill_obj: dict):\n",
    "    \"\"\"Helper function for parse_bill_json\"\"\"\n",
    "    bill_id = bill_obj['bill_id']\n",
    "    nested_fields = determine_nested_data(bill_obj)\n",
    "    for field in nested_fields:\n",
    "        Path(f'../04_outputs/parsed/{field}/').mkdir(parents=True, exist_ok=True)\n",
    "        nested_filename = f'../04_outputs/parsed/{field}/{bill_id}.json'\n",
    "        nested_obj = bill_obj.pop(field)\n",
    "        with open(nested_filename, 'w') as fp:\n",
    "            json.dump(nested_obj, fp)\n",
    "    Path('../04_outputs/parsed/bills/').mkdir(exist_ok=True)\n",
    "    with open(f'../04_outputs/parsed/bills/{bill_id}.json', 'w') as fp:\n",
    "        json.dump(bill_obj, fp)"
   ]
  },
  {
   "cell_type": "code",
   "execution_count": null,
   "id": "2c19e060-5664-4c41-95b0-619ff0d1049f",
   "metadata": {},
   "outputs": [],
   "source": [
    "def parse_bill_json(bill_id: int):\n",
    "    bill = load_bill_json(bill_id, parsed=False)\n",
    "    parsed_bill = save_nested_data(bill)\n",
    "    return parsed_bill"
   ]
  },
  {
   "cell_type": "code",
   "execution_count": null,
   "id": "5adb6974-c4c5-4ff9-97fe-f4c9df0b85b1",
   "metadata": {},
   "outputs": [],
   "source": [
    "save_requested_bill(hr100, to_csv=True)"
   ]
  },
  {
   "cell_type": "markdown",
   "id": "75d21ede-cf20-42ec-aec4-77e34c978716",
   "metadata": {},
   "source": [
    "## Multiple bills"
   ]
  },
  {
   "cell_type": "code",
   "execution_count": null,
   "id": "a83ae3bd-f615-4c3a-aa61-e95e011b67cc",
   "metadata": {},
   "outputs": [],
   "source": [
    "def prepare_bill(file_path: str):\n",
    "    with open(file_path) as fp:\n",
    "        bill = json.load(fp)\n",
    "    df = pd.json_normalize(bill)\n",
    "    return df"
   ]
  },
  {
   "cell_type": "code",
   "execution_count": null,
   "id": "acf0aa9c-85e2-43ed-8e24-8eaee1157fb9",
   "metadata": {},
   "outputs": [],
   "source": [
    "files = Path('../04_outputs/json/US_117th_congress_bills/').glob('*.json')"
   ]
  },
  {
   "cell_type": "code",
   "execution_count": null,
   "id": "cf9d4ff5-5bca-43b2-b438-3337bf50623f",
   "metadata": {},
   "outputs": [],
   "source": [
    "dataframes = [prepare_bill(f) for f in files]"
   ]
  },
  {
   "cell_type": "code",
   "execution_count": null,
   "id": "748d5f92-03d4-480a-9720-8b9009cc9007",
   "metadata": {},
   "outputs": [],
   "source": [
    "df = pd.concat(dataframes, ignore_index=True)"
   ]
  },
  {
   "cell_type": "code",
   "execution_count": null,
   "id": "8a2ab7b1-a9a5-4cea-a919-8fe41b0e6ff8",
   "metadata": {},
   "outputs": [],
   "source": [
    "df.to_csv('../04_outputs/csv/US_117th_congress.csv', index=False)"
   ]
  }
 ],
 "metadata": {
  "kernelspec": {
   "display_name": "Python 3 (ipykernel)",
   "language": "python",
   "name": "python3"
  },
  "language_info": {
   "codemirror_mode": {
    "name": "ipython",
    "version": 3
   },
   "file_extension": ".py",
   "mimetype": "text/x-python",
   "name": "python",
   "nbconvert_exporter": "python",
   "pygments_lexer": "ipython3",
   "version": "3.10.4"
  }
 },
 "nbformat": 4,
 "nbformat_minor": 5
}
