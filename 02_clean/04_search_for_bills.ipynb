{
 "cells": [
  {
   "cell_type": "markdown",
   "id": "1f7bf1ef-11fc-4380-893a-a07f97754092",
   "metadata": {},
   "source": [
    "# Find bills from a keyword search"
   ]
  },
  {
   "cell_type": "code",
   "execution_count": null,
   "id": "c3fbbba5-92e4-4772-a272-479de074ad2d",
   "metadata": {},
   "outputs": [],
   "source": [
    "import datetime as dt\n",
    "import json\n",
    "import os\n",
    "import re\n",
    "from pathlib import Path\n",
    "from urllib import parse\n",
    "\n",
    "import numpy as np\n",
    "import pandas as pd\n",
    "import requests\n",
    "from IPython.display import Image\n",
    "from legcop import LegiScan"
   ]
  },
  {
   "cell_type": "code",
   "execution_count": null,
   "id": "ea4220c0-04d6-4d05-b6ba-9ce8cb343edc",
   "metadata": {},
   "outputs": [],
   "source": [
    "legis = LegiScan(apikey=os.getenv('LEGISCAN_API_KEY'))"
   ]
  },
  {
   "cell_type": "markdown",
   "id": "4b428702-380e-4923-b552-a036b1ae5559",
   "metadata": {},
   "source": [
    "## Composing your query"
   ]
  },
  {
   "cell_type": "markdown",
   "id": "a31c08a6-8ce1-4f9d-9eea-a2843943b750",
   "metadata": {},
   "source": [
    "The most important aspect of using the search function of the API is knowing how it expects those searches to be structured. LegiScan documents the syntax on its Full Text Search [help page](https://legiscan.com/fulltext-search).\n",
    "\n",
    "LegiScan also maintains a table of the most popular recent simple and complex searches [here](https://legiscan.com/trends/search).\n",
    "\n",
    "We can easily grab that table with pandas' `read_html`:"
   ]
  },
  {
   "cell_type": "code",
   "execution_count": null,
   "id": "b7bd0fda-e352-417a-9096-7b8554491d2a",
   "metadata": {},
   "outputs": [],
   "source": [
    "top_searches = pd.read_html('https://legiscan.com/trends/search', extract_links='body')[\n",
    "    0\n",
    "]"
   ]
  },
  {
   "cell_type": "code",
   "execution_count": null,
   "id": "22ae54b5-d081-452f-aeb7-ef321fe22364",
   "metadata": {},
   "outputs": [],
   "source": [
    "top_searches.head()"
   ]
  },
  {
   "cell_type": "markdown",
   "id": "c7406981-ec1a-43f1-bdfb-398d5e817d3a",
   "metadata": {},
   "source": [
    "### Query forensics\n",
    "\n",
    "This is what a person would enter in the full text interface."
   ]
  },
  {
   "cell_type": "code",
   "execution_count": null,
   "id": "8763ebe7-dc5f-4f99-b375-5b2d1f182c0a",
   "metadata": {},
   "outputs": [],
   "source": [
    "Image(filename='../01_inputs/documentation/full_text.png', retina=True)"
   ]
  },
  {
   "cell_type": "code",
   "execution_count": null,
   "id": "98e90484-a3e4-4f4e-bbc8-34164fea4c0c",
   "metadata": {},
   "outputs": [],
   "source": [
    "query_text = top_searches.at[0, 'Complex Searches'][0]\n",
    "query_text"
   ]
  },
  {
   "cell_type": "code",
   "execution_count": null,
   "id": "c31bffb7-9c5e-423a-8ea4-496b807a6972",
   "metadata": {},
   "outputs": [],
   "source": [
    "url = top_searches.at[0, 'Complex Searches'][1]\n",
    "query = parse.urlparse(url).query\n",
    "query"
   ]
  },
  {
   "cell_type": "code",
   "execution_count": null,
   "id": "b83d1cf1-1238-4d02-92ff-2bf420d3fd71",
   "metadata": {},
   "outputs": [],
   "source": [
    "working_query_string = query.split('=')[1]"
   ]
  },
  {
   "cell_type": "code",
   "execution_count": null,
   "id": "e70e8e33-b5a7-4a4a-94da-3108c724cfac",
   "metadata": {},
   "outputs": [],
   "source": [
    "my_query_string = parse.quote_plus(query_text)"
   ]
  },
  {
   "cell_type": "code",
   "execution_count": null,
   "id": "62f25724-79d5-47d8-9a14-551f735512d7",
   "metadata": {},
   "outputs": [],
   "source": [
    "assert my_query_string == working_query_string"
   ]
  },
  {
   "cell_type": "code",
   "execution_count": null,
   "id": "329dec3a-4129-4d9b-9370-2ce884d3ac23",
   "metadata": {},
   "outputs": [],
   "source": [
    "query_text.split()[0]"
   ]
  },
  {
   "cell_type": "code",
   "execution_count": null,
   "id": "e42fba1a-c6cd-4d97-b522-c6c48d8efb67",
   "metadata": {},
   "outputs": [],
   "source": [
    "dt.datetime.now().strftime('%y%m%d-%H:%M')"
   ]
  },
  {
   "cell_type": "code",
   "execution_count": null,
   "id": "98507386-a25d-4252-908e-d9e52a3fa671",
   "metadata": {},
   "outputs": [],
   "source": [
    "def test_encoding(query):\n",
    "    query_string = parse.urlencode({'keyword': query}, quote_via=parse.quote_plus)\n",
    "    url = parse.urlunsplit(\n",
    "        (\n",
    "            'https',\n",
    "            'legiscan.com',\n",
    "            '/gaits/search',\n",
    "            query_string,\n",
    "            '',\n",
    "        )\n",
    "    )\n",
    "    print(url)"
   ]
  },
  {
   "cell_type": "code",
   "execution_count": null,
   "id": "07a3b236-84b3-4fa5-93aa-8133d857bac6",
   "metadata": {},
   "outputs": [],
   "source": [
    "test_encoding(my_query_string)"
   ]
  },
  {
   "cell_type": "code",
   "execution_count": null,
   "id": "052448df-79b1-4fde-9d9f-a1c9e0dc3501",
   "metadata": {},
   "outputs": [],
   "source": [
    "search = legis.search(state='All', query=my_query_string, year=2, page=1)"
   ]
  },
  {
   "cell_type": "code",
   "execution_count": null,
   "id": "d460a13c-c390-402c-8a41-2f17aceb786d",
   "metadata": {},
   "outputs": [],
   "source": [
    "Image(filename='../01_inputs/documentation/query_result.png', retina=True)"
   ]
  },
  {
   "cell_type": "code",
   "execution_count": null,
   "id": "02e1c87d-3c14-4a41-9514-cead56710127",
   "metadata": {},
   "outputs": [],
   "source": [
    "assert search['summary']['count'] == 925"
   ]
  },
  {
   "cell_type": "markdown",
   "id": "381c63f9-336f-40a9-a89e-861ddd0df790",
   "metadata": {},
   "source": [
    "## Retrieving query results\n",
    "\n",
    "### Capturing metadata"
   ]
  },
  {
   "cell_type": "code",
   "execution_count": null,
   "id": "79d2a0a6-fd69-4cad-8003-87843eaf5509",
   "metadata": {},
   "outputs": [],
   "source": [
    "def synthesize_path_name(query):\n",
    "    \"\"\"Helper function for update_and_export_search_result()\"\"\"\n",
    "    timestamp = dt.datetime.now().strftime('%y%m%d-%H%M%S')\n",
    "    truncated_query = re.search(r'[a-zA-Z]+\\-*[a-zA-Z]+', query)\n",
    "    return f'{truncated_query}_{timestamp}'"
   ]
  },
  {
   "cell_type": "code",
   "execution_count": null,
   "id": "baee45e3-ef84-4c6b-8108-a6ff99335b49",
   "metadata": {},
   "outputs": [],
   "source": [
    "def capture_query_metadata(state, query_str, year, page, relevance_threshold):\n",
    "    \"\"\"Helper function for conduct_keyword_search()\"\"\"\n",
    "    return {\n",
    "        'arguments': {\n",
    "            'state': state,\n",
    "            'query': parse.unquote_plus(query_str),\n",
    "            'year': year,\n",
    "            'page': page,\n",
    "            'relevance_threshold': relevance_threshold,\n",
    "        },\n",
    "        'date': dt.datetime.now().strftime('%y-%m-%d'),\n",
    "    }"
   ]
  },
  {
   "cell_type": "code",
   "execution_count": null,
   "id": "144c7ab1-4415-40e3-89b7-a586aa815577",
   "metadata": {},
   "outputs": [],
   "source": [
    "def update_and_export(path_name, metadata, search_result_obj):\n",
    "    \"\"\"Helper function for save_paginated_results(). Saves object returned\n",
    "    by legis.get_search() to a json file, with additional metadata regarding\n",
    "    the search parameters.\n",
    "\n",
    "    Parameters\n",
    "    ----------\n",
    "    path_name : str, optional\n",
    "    metadata : dict\n",
    "        Generated by capture_query_metadata().\n",
    "            metadata['date'] is an ISO-formatted representation of\n",
    "            the date the search was run.\n",
    "            metadata['arguments'] comprises key-value pairs describing\n",
    "            arguments passed to legis.get_search()\n",
    "\n",
    "    search_result_obj : dict\n",
    "        Object returned by legis.get_search()\n",
    "\n",
    "    Returns\n",
    "    -------\n",
    "    None\n",
    "    \"\"\"\n",
    "    if path_name is None:\n",
    "        path_name = synthesize_path_name(metadata['arguments']['query'])\n",
    "    Path(f'../04_outputs/search/{path_name}').mkdir(parents=True, exist_ok=True)\n",
    "    search_result_obj['query_metadata'] = metadata\n",
    "    page = metadata['arguments']['page']\n",
    "    with open(f'../04_outputs/search/{path_name}/p{page}.json', 'w') as fp:\n",
    "        json.dump(search_result_obj, fp)"
   ]
  },
  {
   "cell_type": "markdown",
   "id": "5aafb0e6-52dd-4c22-91c4-861b7fc017cd",
   "metadata": {},
   "source": [
    "### Previewing results"
   ]
  },
  {
   "cell_type": "code",
   "execution_count": null,
   "id": "65687a07-6b81-4443-8961-bceafc206463",
   "metadata": {},
   "outputs": [],
   "source": [
    "def conduct_keyword_search(\n",
    "    query,\n",
    "    path_name=None,\n",
    "    state='All',\n",
    "    year=2,\n",
    "    page=1,\n",
    "    relevance_threshold=0,\n",
    "    preview=True,\n",
    "):\n",
    "    \"\"\"Runs legis.get_search() and captures query metadata, optionally saving\n",
    "    paginated results.\n",
    "\n",
    "    Parameters\n",
    "    ----------\n",
    "    query : str\n",
    "    path_name : str, optional\n",
    "    state : str, optional\n",
    "        Must be 'All' or a valid ANSI code. See TK.\n",
    "    year : int, default 2\n",
    "    page : int, default 1\n",
    "    relevance_threshold : int, default 0\n",
    "    preview : bool, default True\n",
    "    \"\"\"\n",
    "    query_str = parse.quote_plus(query)\n",
    "    first_page_obj = legis.search(state=state, query=query_str, year=year, page=page)\n",
    "    if preview:\n",
    "        print(first_page_obj['summary'])\n",
    "        return first_page_obj['results'][0:5]\n",
    "    else:\n",
    "        metadata = capture_query_metadata(\n",
    "            state, query_str, year, page, relevance_threshold\n",
    "        )\n",
    "        if first_page_obj['summary']['page_total'] == 1:\n",
    "            update_and_export(path_name, metadata, first_page_obj)\n",
    "        else:\n",
    "            save_paginated_results(query_str, path_name, metadata, first_page_obj)"
   ]
  },
  {
   "cell_type": "markdown",
   "id": "03b0e542-fc1a-4877-9db2-4088b36182e6",
   "metadata": {},
   "source": [
    "### Handling pagination"
   ]
  },
  {
   "cell_type": "code",
   "execution_count": null,
   "id": "585e208a-4537-416b-a986-c1abfb4d0ce4",
   "metadata": {},
   "outputs": [],
   "source": [
    "def save_paginated_results(query_str, path_name, metadata, first_page_obj):\n",
    "    \"\"\"Optional function called by conduct_keyword_search() to handle\n",
    "    paginated results\n",
    "\n",
    "    Parameters\n",
    "    ----------\n",
    "\n",
    "    metadata : dict\n",
    "        Metadata regarding search parameters.\n",
    "\n",
    "    first_page_obj : dict\n",
    "        The first page of results returned by legis.get_search(), typically 1.\n",
    "\n",
    "    Returns\n",
    "    -------\n",
    "\n",
    "    See Also\n",
    "    --------\n",
    "\n",
    "    conduct_keyword_search\n",
    "    update_and_export\n",
    "\n",
    "    None\n",
    "    \"\"\"\n",
    "    min_relevance = first_page_obj['results'][-1]['relevance']\n",
    "    relevance_threshold = metadata['arguments']['relevance_threshold']\n",
    "    total = first_page_obj['summary']['page_total']\n",
    "    update_and_export(path_name, metadata, first_page_obj)\n",
    "    current_page = int(first_page_obj['summary']['page_current']) + 1\n",
    "    args = metadata['arguments']\n",
    "    try:\n",
    "        while min_relevance >= relevance_threshold and current_page < total:\n",
    "            search_result_obj = legis.search(\n",
    "                state=args['state'], query=query_str, page=current_page\n",
    "            )\n",
    "            min_relevance = search_result_obj['results'][-1]['relevance']\n",
    "            metadata['arguments'].update({'page': current_page})\n",
    "            update_and_export(path_name, metadata, search_result_obj)\n",
    "            current_page += 1\n",
    "    except Exception as e:\n",
    "        print(f'Error: {str(e)}.')\n",
    "    finally:\n",
    "        print(\n",
    "            f'{current_page} out of {total} pages saved to ../04_outputs/search/{path_name}/.'\n",
    "        )"
   ]
  },
  {
   "cell_type": "code",
   "execution_count": null,
   "id": "0fc7dfa6-b474-4a19-8e2b-3febef2824b4",
   "metadata": {},
   "outputs": [],
   "source": [
    "conduct_keyword_search(my_query_string, preview=False)"
   ]
  }
 ],
 "metadata": {
  "kernelspec": {
   "display_name": "Python 3 (ipykernel)",
   "language": "python",
   "name": "python3"
  },
  "language_info": {
   "codemirror_mode": {
    "name": "ipython",
    "version": 3
   },
   "file_extension": ".py",
   "mimetype": "text/x-python",
   "name": "python",
   "nbconvert_exporter": "python",
   "pygments_lexer": "ipython3",
   "version": "3.10.4"
  }
 },
 "nbformat": 4,
 "nbformat_minor": 5
}
